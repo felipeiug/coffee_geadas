{
 "cells": [
  {
   "cell_type": "code",
   "execution_count": 1,
   "metadata": {},
   "outputs": [],
   "source": [
    "# Script criado pelo Prof. Eric Bastos Gorgens - UFVJM (eric.gorgens@ufvjm.edu.br) e Adaptado por Felipe Ribeiro\n",
    "# Pequenas adaptações por Guilherme de Oliveira Leão - SEAPA (guilherme.leao@agricultura.mg.gov.br)\n",
    "# Criação de imagem sentinel RGB + IR para bacia de interesse, e período de interesse\n",
    "# Licensa uso Creative Commons - Atribuição-CompartilhaIgual 4.0 Internacional\n",
    "\n",
    "# Neste estudo realizei um pré treinamento com algun locais com matas, cafés e não cafés, para que eu consiga com o EE\n",
    "# realizar o estudo automaticamente\n",
    "# O ID-1 é café, ID-2 é Mata e ID-3 é não café\n",
    "# A catalogação do que é ou não café foi realizada com o uso e ocupação do solo de 2020 e com o Google Satélitie de\n",
    "# Janiero de 2023, então os limiares das bandas devem ser próximo a este limiar de datas"
   ]
  },
  {
   "cell_type": "code",
   "execution_count": 1,
   "metadata": {},
   "outputs": [],
   "source": [
    "# Importando arquivos\n",
    "import ee\n",
    "import pandas as pd\n",
    "import geopandas as gpd\n",
    "from shapely.geometry import Point"
   ]
  },
  {
   "cell_type": "code",
   "execution_count": 2,
   "metadata": {},
   "outputs": [],
   "source": [
    "#Initializing earth engine\n",
    "link_cred = \"testestcc@reg-vaz.iam.gserviceaccount.com\"\n",
    "cred = ee.ServiceAccountCredentials(link_cred, r\"Secrets/reg-vaz-9444ac120e33.json\")\n",
    "ee.Initialize(cred)"
   ]
  },
  {
   "cell_type": "code",
   "execution_count": 5,
   "metadata": {},
   "outputs": [],
   "source": [
    "# Area de drenagem do ponto de estudo\n",
    "# area = ee.FeatureCollection(\"Mapas/limite_mg.geojson\")\n",
    "\n",
    "# Definindo a imagem de exemplo para uma data específica\n",
    "startDate = '2021-06-30'\n",
    "endDate = '2021-07-20'\n",
    "\n",
    "# Filtra imagens da coleção no período escolhido\n",
    "# O Período pode ser alterado abaixo. Não esqueça de inserir um período que esteja compreendido\n",
    "# no tempo mínimo de um estudo de Uso e Ocupação da Terra para o ZAP (6 meses anterior ao estudo)\n",
    "# Formato: ANO-MÊS-DIA\n",
    "sentinel:ee.Image = ee.ImageCollection(\"COPERNICUS/S2_SR\").filterMetadata('CLOUDY_PIXEL_PERCENTAGE', 'less_than', 10).filterDate(startDate, endDate).median()"
   ]
  },
  {
   "cell_type": "code",
   "execution_count": null,
   "metadata": {},
   "outputs": [],
   "source": [
    "# Determinando os valores do que é ou não café\n",
    "# Abridno o arquivo com os poligonos datados\n",
    "cafes:gpd.GeoDataFrame = gpd.read_file(\"Mapas/arquivos.gpkg\", driver=\"GPKG\", layer = \"cafe\")\n",
    "trainingVals = []\n",
    "index = 0\n",
    "for row in cafes.itertuples():\n",
    "\tif index == 20:\n",
    "\t\tbreak\n",
    "\n",
    "\tgeom = row.geometry.envelope\n",
    "\tee_polygon = ee.Geometry.Polygon(list(geom.exterior.coords))\n",
    "\tee_geometry = ee.Geometry(ee_polygon)\n",
    "\n",
    "\tmean = sentinel.clip(ee_geometry)\n",
    "\n",
    "\tmean = mean.reduceRegion(\n",
    "\t\treducer=ee.Reducer.mean(),\n",
    "\t\tgeometry=ee_geometry,\n",
    "\t\tscale=10,\n",
    "\t\tmaxPixels=1e9\n",
    "\t)\n",
    "\n",
    "\tmean_info = mean.getInfo()\n",
    "\n",
    "\tmean_info['landcover'] = 1\n",
    "\n",
    "\ttrainingVals.append(\n",
    "\t\tee.Feature(\n",
    "\t\t\tee_geometry,\n",
    "\t\t\tmean_info,\n",
    "\t\t),\n",
    "\t)\n",
    "\n",
    "\tprint(row)\n",
    "\n",
    "\tindex += 1\n",
    "\n",
    "# EE collection for training\n",
    "polygons = ee.FeatureCollection(trainingVals)"
   ]
  },
  {
   "cell_type": "code",
   "execution_count": null,
   "metadata": {},
   "outputs": [],
   "source": [
    "# Testar todos e ver qual melhor resultado\n",
    "# ee.Classifier.randomForest: Implementação de floresta aleatória, que é uma técnica de aprendizado de máquina baseada em múltiplos modelos de árvore de decisão.\n",
    "# ee.Classifier.smileCart: Implementação da árvore de decisão de classificação e regressão (CART, na sigla em inglês).\n",
    "# ee.Classifier.svm: Implementação de máquinas de vetor de suporte (SVM), que é uma técnica de aprendizado de máquina baseada em separação de hiperplanos.\n",
    "# ee.Classifier.smileNaiveBayes: Implementação do algoritmo de Bayes ingênuo, que é uma técnica de classificação probabilística simples.\n",
    "# ee.Classifier.gmo: Implementação do algoritmo de mínimos quadrados generalizados (GMO, na sigla em inglês), que é uma técnica de ajuste não-linear para modelos lineares generalizados.\n",
    "\n",
    "trainedClassifier = ee.Classifier.smileRandomForest(10).train(polygons,'landcover',['B1', 'B2', 'B3', 'B4', 'B5', 'B7'])\n",
    "\n",
    "classified = sentinel.classify(trainedClassifier)\n",
    "print(classified.getInfo())"
   ]
  },
  {
   "cell_type": "code",
   "execution_count": null,
   "metadata": {},
   "outputs": [],
   "source": [
    "# Recorta a imagem treinada na área de interesse\n",
    "clipped:ee.Image = sentinel.clip(classified)\n",
    "\n",
    "print(clipped.getDownloadURL(scale=10, crs='EPSG:4326'))"
   ]
  }
 ],
 "metadata": {
  "kernelspec": {
   "display_name": "libs",
   "language": "python",
   "name": "python3"
  },
  "language_info": {
   "codemirror_mode": {
    "name": "ipython",
    "version": 3
   },
   "file_extension": ".py",
   "mimetype": "text/x-python",
   "name": "python",
   "nbconvert_exporter": "python",
   "pygments_lexer": "ipython3",
   "version": "3.10.4"
  },
  "orig_nbformat": 4,
  "vscode": {
   "interpreter": {
    "hash": "a8fc4f42622db11b260ba768fd0f41c2f11194d706b6df7aa38a2e063b7ed831"
   }
  }
 },
 "nbformat": 4,
 "nbformat_minor": 2
}
